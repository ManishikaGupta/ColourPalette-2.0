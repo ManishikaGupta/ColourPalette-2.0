{
 "cells": [
  {
   "cell_type": "code",
   "execution_count": 1,
   "metadata": {},
   "outputs": [],
   "source": [
    "import os\n",
    "import numpy as np\n",
    "import matplotlib.pyplot as plt\n",
    "import tensorflow as tf\n",
    "from tensorflow.keras.preprocessing.image import ImageDataGenerator\n",
    "from tensorflow.keras import layers, models, optimizers\n",
    "from sklearn.metrics import classification_report, confusion_matrix\n",
    "\n",
    "# 1. Set paths and parameters\n",
    "data_dir = 'dataset'\n",
    "img_size = (224, 224)\n",
    "batch_size = 32\n",
    "num_classes = 4  # cool, neutral, warm, olive\n",
    "\n",
    "# 2. Augmentation to reduce overfitting\n",
    "train_datagen = ImageDataGenerator(\n",
    "    rescale=1./255,\n",
    "    validation_split=0.2,   # hold out 20%\n",
    "    rotation_range=15,\n",
    "    width_shift_range=0.1,\n",
    "    height_shift_range=0.1,\n",
    "    horizontal_flip=True,\n",
    "    zoom_range=0.1\n",
    ")"
   ]
  },
  {
   "cell_type": "code",
   "execution_count": 2,
   "metadata": {},
   "outputs": [
    {
     "name": "stdout",
     "output_type": "stream",
     "text": [
      "Found 1193 images belonging to 4 classes.\n",
      "Found 296 images belonging to 4 classes.\n"
     ]
    }
   ],
   "source": [
    "# 3. Load datasets\n",
    "train_gen = train_datagen.flow_from_directory(\n",
    "    data_dir, target_size=img_size, batch_size=batch_size,\n",
    "    class_mode='categorical', subset='training'\n",
    ")\n",
    "\n",
    "val_gen = train_datagen.flow_from_directory(\n",
    "    data_dir, target_size=img_size, batch_size=batch_size,\n",
    "    class_mode='categorical', subset='validation'\n",
    ")\n"
   ]
  },
  {
   "cell_type": "code",
   "execution_count": 3,
   "metadata": {},
   "outputs": [],
   "source": [
    "# 4. Build model (transfer learning using MobileNetV2)\n",
    "base_model = tf.keras.applications.MobileNetV2(\n",
    "    input_shape=(*img_size, 3), include_top=False, weights='imagenet')\n",
    "base_model.trainable = False  # freeze pre-trained layers\n",
    "\n",
    "model = models.Sequential([\n",
    "    base_model,\n",
    "    layers.GlobalAveragePooling2D(),\n",
    "    layers.Dropout(0.5),\n",
    "    layers.Dense(128, activation='relu'),\n",
    "    layers.Dense(num_classes, activation='softmax')\n",
    "])\n",
    "\n",
    "model.compile(\n",
    "    optimizer=optimizers.Adam(learning_rate=1e-4),\n",
    "    loss='categorical_crossentropy',\n",
    "    metrics=['accuracy']\n",
    ")"
   ]
  },
  {
   "cell_type": "code",
   "execution_count": 4,
   "metadata": {},
   "outputs": [
    {
     "name": "stderr",
     "output_type": "stream",
     "text": [
      "/opt/anaconda3/lib/python3.12/site-packages/keras/src/trainers/data_adapters/py_dataset_adapter.py:121: UserWarning: Your `PyDataset` class should call `super().__init__(**kwargs)` in its constructor. `**kwargs` can include `workers`, `use_multiprocessing`, `max_queue_size`. Do not pass these arguments to `fit()`, as they will be ignored.\n",
      "  self._warn_if_super_not_called()\n"
     ]
    },
    {
     "name": "stdout",
     "output_type": "stream",
     "text": [
      "Epoch 1/15\n",
      "\u001b[1m38/38\u001b[0m \u001b[32m━━━━━━━━━━━━━━━━━━━━\u001b[0m\u001b[37m\u001b[0m \u001b[1m148s\u001b[0m 4s/step - accuracy: 0.3752 - loss: 1.4378 - val_accuracy: 0.2500 - val_loss: 1.4449\n",
      "Epoch 2/15\n",
      "\u001b[1m38/38\u001b[0m \u001b[32m━━━━━━━━━━━━━━━━━━━━\u001b[0m\u001b[37m\u001b[0m \u001b[1m137s\u001b[0m 4s/step - accuracy: 0.5506 - loss: 1.0655 - val_accuracy: 0.2905 - val_loss: 1.4859\n",
      "Epoch 3/15\n",
      "\u001b[1m38/38\u001b[0m \u001b[32m━━━━━━━━━━━━━━━━━━━━\u001b[0m\u001b[37m\u001b[0m \u001b[1m137s\u001b[0m 4s/step - accuracy: 0.7408 - loss: 0.7463 - val_accuracy: 0.2804 - val_loss: 1.6266\n",
      "Epoch 4/15\n",
      "\u001b[1m38/38\u001b[0m \u001b[32m━━━━━━━━━━━━━━━━━━━━\u001b[0m\u001b[37m\u001b[0m \u001b[1m138s\u001b[0m 4s/step - accuracy: 0.7483 - loss: 0.6793 - val_accuracy: 0.3311 - val_loss: 1.6243\n",
      "Epoch 5/15\n",
      "\u001b[1m38/38\u001b[0m \u001b[32m━━━━━━━━━━━━━━━━━━━━\u001b[0m\u001b[37m\u001b[0m \u001b[1m137s\u001b[0m 4s/step - accuracy: 0.8224 - loss: 0.5300 - val_accuracy: 0.3041 - val_loss: 1.7744\n",
      "Epoch 6/15\n",
      "\u001b[1m38/38\u001b[0m \u001b[32m━━━━━━━━━━━━━━━━━━━━\u001b[0m\u001b[37m\u001b[0m \u001b[1m137s\u001b[0m 4s/step - accuracy: 0.8650 - loss: 0.4390 - val_accuracy: 0.3311 - val_loss: 1.8314\n",
      "Epoch 7/15\n",
      "\u001b[1m38/38\u001b[0m \u001b[32m━━━━━━━━━━━━━━━━━━━━\u001b[0m\u001b[37m\u001b[0m \u001b[1m137s\u001b[0m 4s/step - accuracy: 0.8612 - loss: 0.3932 - val_accuracy: 0.3480 - val_loss: 1.8994\n",
      "Epoch 8/15\n",
      "\u001b[1m38/38\u001b[0m \u001b[32m━━━━━━━━━━━━━━━━━━━━\u001b[0m\u001b[37m\u001b[0m \u001b[1m137s\u001b[0m 4s/step - accuracy: 0.8870 - loss: 0.3439 - val_accuracy: 0.3412 - val_loss: 1.9667\n",
      "Epoch 9/15\n",
      "\u001b[1m38/38\u001b[0m \u001b[32m━━━━━━━━━━━━━━━━━━━━\u001b[0m\u001b[37m\u001b[0m \u001b[1m138s\u001b[0m 4s/step - accuracy: 0.9006 - loss: 0.3094 - val_accuracy: 0.3209 - val_loss: 2.1177\n",
      "Epoch 10/15\n",
      "\u001b[1m38/38\u001b[0m \u001b[32m━━━━━━━━━━━━━━━━━━━━\u001b[0m\u001b[37m\u001b[0m \u001b[1m137s\u001b[0m 4s/step - accuracy: 0.8894 - loss: 0.3063 - val_accuracy: 0.3412 - val_loss: 2.1375\n",
      "Epoch 11/15\n",
      "\u001b[1m38/38\u001b[0m \u001b[32m━━━━━━━━━━━━━━━━━━━━\u001b[0m\u001b[37m\u001b[0m \u001b[1m139s\u001b[0m 4s/step - accuracy: 0.9176 - loss: 0.2380 - val_accuracy: 0.3311 - val_loss: 2.1259\n",
      "Epoch 12/15\n",
      "\u001b[1m38/38\u001b[0m \u001b[32m━━━━━━━━━━━━━━━━━━━━\u001b[0m\u001b[37m\u001b[0m \u001b[1m138s\u001b[0m 4s/step - accuracy: 0.9220 - loss: 0.2326 - val_accuracy: 0.3446 - val_loss: 2.2475\n",
      "Epoch 13/15\n",
      "\u001b[1m38/38\u001b[0m \u001b[32m━━━━━━━━━━━━━━━━━━━━\u001b[0m\u001b[37m\u001b[0m \u001b[1m138s\u001b[0m 4s/step - accuracy: 0.9394 - loss: 0.2095 - val_accuracy: 0.3581 - val_loss: 2.2381\n",
      "Epoch 14/15\n",
      "\u001b[1m38/38\u001b[0m \u001b[32m━━━━━━━━━━━━━━━━━━━━\u001b[0m\u001b[37m\u001b[0m \u001b[1m137s\u001b[0m 4s/step - accuracy: 0.9199 - loss: 0.2252 - val_accuracy: 0.3514 - val_loss: 2.2605\n",
      "Epoch 15/15\n",
      "\u001b[1m38/38\u001b[0m \u001b[32m━━━━━━━━━━━━━━━━━━━━\u001b[0m\u001b[37m\u001b[0m \u001b[1m137s\u001b[0m 4s/step - accuracy: 0.9465 - loss: 0.1925 - val_accuracy: 0.3784 - val_loss: 2.3211\n",
      "Epoch 1/5\n",
      "\u001b[1m38/38\u001b[0m \u001b[32m━━━━━━━━━━━━━━━━━━━━\u001b[0m\u001b[37m\u001b[0m \u001b[1m183s\u001b[0m 5s/step - accuracy: 0.7245 - loss: 0.7070 - val_accuracy: 0.3480 - val_loss: 2.4171\n",
      "Epoch 2/5\n",
      "\u001b[1m38/38\u001b[0m \u001b[32m━━━━━━━━━━━━━━━━━━━━\u001b[0m\u001b[37m\u001b[0m \u001b[1m182s\u001b[0m 5s/step - accuracy: 0.8016 - loss: 0.4995 - val_accuracy: 0.3514 - val_loss: 2.4491\n",
      "Epoch 3/5\n",
      "\u001b[1m38/38\u001b[0m \u001b[32m━━━━━━━━━━━━━━━━━━━━\u001b[0m\u001b[37m\u001b[0m \u001b[1m206s\u001b[0m 5s/step - accuracy: 0.8778 - loss: 0.3298 - val_accuracy: 0.3514 - val_loss: 2.6699\n",
      "Epoch 4/5\n",
      "\u001b[1m38/38\u001b[0m \u001b[32m━━━━━━━━━━━━━━━━━━━━\u001b[0m\u001b[37m\u001b[0m \u001b[1m216s\u001b[0m 6s/step - accuracy: 0.9282 - loss: 0.2553 - val_accuracy: 0.3378 - val_loss: 2.6558\n",
      "Epoch 5/5\n",
      "\u001b[1m38/38\u001b[0m \u001b[32m━━━━━━━━━━━━━━━━━━━━\u001b[0m\u001b[37m\u001b[0m \u001b[1m235s\u001b[0m 6s/step - accuracy: 0.9422 - loss: 0.2022 - val_accuracy: 0.3412 - val_loss: 2.7557\n"
     ]
    }
   ],
   "source": [
    "# 5. Train\n",
    "history = model.fit(\n",
    "    train_gen,\n",
    "    epochs=15,\n",
    "    validation_data=val_gen\n",
    ")\n",
    "\n",
    "# 6. Optionally fine‑tune\n",
    "base_model.trainable = True\n",
    "model.compile(optimizer=optimizers.Adam(1e-5), loss='categorical_crossentropy', metrics=['accuracy'])\n",
    "fine_history = model.fit(train_gen, epochs=5, validation_data=val_gen)\n"
   ]
  },
  {
   "cell_type": "code",
   "execution_count": 5,
   "metadata": {},
   "outputs": [
    {
     "name": "stderr",
     "output_type": "stream",
     "text": [
      "WARNING:absl:You are saving your model as an HDF5 file via `model.save()` or `keras.saving.save_model(model)`. This file format is considered legacy. We recommend using instead the native Keras format, e.g. `model.save('my_model.keras')` or `keras.saving.save_model(model, 'my_model.keras')`. \n"
     ]
    },
    {
     "data": {
      "image/png": "[encoded data removed]",
      "text/plain": [
       "<Figure size 640x480 with 1 Axes>"
      ]
     },
     "metadata": {},
     "output_type": "display_data"
    }
   ],
   "source": [
    "\n",
    "# 7. Save the best model\n",
    "model.save('undertone_model.h5')\n",
    "\n",
    "# 8. Plot loss & accuracy curves\n",
    "plt.plot(history.history['accuracy'] + fine_history.history['accuracy'], label='train_acc')\n",
    "plt.plot(history.history['val_accuracy'] + fine_history.history['val_accuracy'], label='val_acc')\n",
    "plt.legend(); plt.show()\n"
   ]
  }
 ],
 "metadata": {
  "kernelspec": {
   "display_name": "Python 3",
   "language": "python",
   "name": "python3"
  },
  "language_info": {
   "codemirror_mode": {
    "name": "ipython",
    "version": 3
   },
   "file_extension": ".py",
   "mimetype": "text/x-python",
   "name": "python",
   "nbconvert_exporter": "python",
   "pygments_lexer": "ipython3",
   "version": "3.12.4"
  },
  "orig_nbformat": 4
 },
 "nbformat": 4,
 "nbformat_minor": 2
}
